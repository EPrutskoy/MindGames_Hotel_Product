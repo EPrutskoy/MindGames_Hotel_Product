{
 "cells": [
  {
   "cell_type": "markdown",
   "metadata": {},
   "source": [
    "# Проект: ВШЭ ПСБ.Хак"
   ]
  },
  {
   "cell_type": "markdown",
   "metadata": {},
   "source": [
    "## Описание задачи\n"
   ]
  },
  {
   "cell_type": "markdown",
   "metadata": {},
   "source": [
    "После суровых трудовых будней всегда хочется с удовольствием провести свой отпуск и насладиться отдыхом. Тем не менее, на этом пути к счастью обычно возникают несколько преград: выбор желаемой гостиницы, заблаговременное бронирование, оплата, получение максимально возможной скидки и т.д. Как минимизировать свои риски и траты, и при этом получить желаемый уровень сервиса и отдых?\n",
    "\n",
    "А что, если проанализировать данные по оплатам, бронированиям и отменам для сети гостиниц и попытаться найти скрытые зависимости с датами заезда, формой оплаты и другими признаками?\n",
    "\n",
    "А если на этом не останавливаться и попытаться использовать найденные паттерны для создания нового банковского продукта, который сможет как помочь потенциальным клиентам с организацией отпуска, так и позволит банку и отелю остаться в плюсе?\n",
    "\n",
    "Именно для создания такого инновационного продукта Вышка Онлайн совместно с Цифровой лабораторией ПСБ проводит хакатон ВШЭ ПСБ.Хак.\n"
   ]
  },
  {
   "cell_type": "markdown",
   "metadata": {},
   "source": [
    "### Организация"
   ]
  },
  {
   "cell_type": "markdown",
   "metadata": {},
   "source": [
    "\n",
    "Соревнование пройдет с 20-22 сентября 2024 в гибридном формате. Командам участникам необходимо пройти через два этапа:\n",
    "\n",
    "* **Этап 1.** Технический. Решение задачи бинарной классификации с целью предсказания факта отмены бронирования\n",
    "* **Этап 2.** Бизнесовый. На основе найденных зависимостей в рамках первого этапа, а также с учетом самостоятельно проведенного анализа рынка и существующих банковских и онлайн-туристических продуктов и программ лояльности, предложить новый банковский продукт для банка ПСБ.\n",
    "В рамках первого этапа команды подгружают свои предсказания отмены бронирования на платформу, где происходит автоматическая проверка ответов на тестовой выборке. Первый этап соревнования завершается 22 сентября в 16:00.\n",
    "\n",
    "Детали регистрации на платформе и особенности отправки решений будут подробно описаны после торжественного открытия хакатона 20 сентября.\n",
    "\n",
    "В рамках второго этапа команды готовят презентацию предлагаемого продукта, которую будут защищать перед жюри 22 сентября, начиная с 17:00.\n",
    "\n",
    "Для погружения участников в особенности банковского бизнеса и предметной области в течение субботы будет проводится серия мастер-классов. Отдельно с командами будут работать менторы, которые будут консультировать на протяжении всего периода соревнования."
   ]
  },
  {
   "cell_type": "markdown",
   "metadata": {},
   "source": [
    "### Данные\n",
    "Данные представляют собой информацию о бронировании номеров различных категорий в разных гостиницах. Гостиницы с номерами 1 и 2 – один регион РФ, с номерами 3 и 4 – другой регион РФ. Структура данных следующая:\n"
   ]
  },
  {
   "cell_type": "markdown",
   "metadata": {},
   "source": [
    "\n",
    "* № брони – идентификатор брони\n",
    "* Номеров – количество номеров в бронировании\n",
    "* Стоимость – стоимость номеров в рублях\n",
    "* Внесена предоплата – сумма внесенной предоплаты\n",
    "* Способ оплаты – один из 12 способов оплаты\n",
    "* Дата бронирования – дата бронирования с точностью до минуты\n",
    "* Дата отмены – дата отмены бронирования с точностью до минуты, если было\n",
    "* Заезд – дата заезда с точностью до дня\n",
    "* Ночей – количество ночей\n",
    "* Выезд – дата выезда с точностью до дня\n",
    "* Источник – онлайн-канал продаж\n",
    "* Статус брони – один из 5 статусов\n",
    "* Категория номера – описание категории номера. Если бронировалось несколько номеров, то идет сплошное описание с * нумерацией.\n",
    "* Гостей – число гостей\n",
    "* Гостиница – номер гостиницы\n",
    "\n",
    "* Целевое поле – Дата отмены: если поле заполнено, то это соответствует целевому значению 1, иначе – 0. Статусы в поле Статус брони уточняют состояние и носят справочный характер (но могут помочь при построении модели).\n",
    "\n",
    "В тестовой выборке отсутствуют столбцы Дата отмены и Статус брони."
   ]
  },
  {
   "cell_type": "markdown",
   "metadata": {},
   "source": [
    "### Метрика\n",
    "Итоговой метрикой выступает ROC-AUC по столбцу Дата отмены.\n"
   ]
  },
  {
   "cell_type": "markdown",
   "metadata": {},
   "source": [
    "### Лидерборд\n",
    "Лидерборд технической части соревнования (метрика модели) в процессе соревнования считается по доступной для скачивания тестовой выборке. Окончание отправок всех решений 22 сентября в 16:00. Лидерборд скрывается от участников 22 сентября в 12:00 и открывается с итоговым результатом 22 сентября в 20:00.\n",
    "\n",
    "### Итоговая оценка решения\n",
    "Итоговая оценка соревнования формируется на основе технической части (40% результата) и защит решений в форме презентаций (60% результата). Экспертное жюри определяет оценку защит. Детали с критериями оценки второго этапа будут предоставлены командам отдельно."
   ]
  },
  {
   "cell_type": "markdown",
   "metadata": {},
   "source": [
    "## Загрузка данных"
   ]
  },
  {
   "cell_type": "markdown",
   "metadata": {},
   "source": [
    "### Импорт библиотек"
   ]
  },
  {
   "cell_type": "code",
   "execution_count": 4,
   "metadata": {},
   "outputs": [],
   "source": [
    "import pandas as pd\n",
    "import requests\n",
    "from io import BytesIO\n",
    "import os"
   ]
  },
  {
   "cell_type": "markdown",
   "metadata": {},
   "source": [
    "### Функции"
   ]
  },
  {
   "cell_type": "code",
   "execution_count": 5,
   "metadata": {},
   "outputs": [],
   "source": [
    "def github(url):\n",
    "    response = requests.get(url)\n",
    "    response.raise_for_status() \n",
    "    return BytesIO(response.content)"
   ]
  },
  {
   "cell_type": "code",
   "execution_count": 6,
   "metadata": {},
   "outputs": [],
   "source": [
    "# Функция для загрузки файла из локальной папки или с GitHub\n",
    "def load_f(file_path, github_url, file_type=\"xlsx\"):\n",
    "    try:\n",
    "\n",
    "        if file_type == \"xlsx\":\n",
    "            data = pd.read_excel(file_path)\n",
    "        elif file_type == \"csv\":\n",
    "            data = pd.read_csv(file_path)\n",
    "        print(f\"Файл загружен локально: {file_path}\")\n",
    "\n",
    "    except FileNotFoundError:\n",
    "        print(f\"Файл не найден локально, загружаю с GitHub: {github_url}\")\n",
    "        if file_type == \"xlsx\":\n",
    "            data = pd.read_excel(github(github_url))\n",
    "        elif file_type == \"csv\":\n",
    "            data = pd.read_csv(github(github_url))\n",
    "        print(f\"Файл загружен с GitHub: {github_url}\")\n",
    "\n",
    "    return data"
   ]
  },
  {
   "cell_type": "code",
   "execution_count": 7,
   "metadata": {},
   "outputs": [
    {
     "name": "stdout",
     "output_type": "stream",
     "text": [
      "Файл загружен локально: datasets\\train.xlsx\n",
      "Файл загружен локально: datasets\\test.xlsx\n",
      "Файл загружен локально: datasets\\example.csv\n"
     ]
    }
   ],
   "source": [
    "# Пути к локальным файлам и ссылки на GitHub\n",
    "train_local_path = os.path.join('datasets', 'train.xlsx')\n",
    "test_local_path = os.path.join('datasets', 'test.xlsx')\n",
    "example_local_path = os.path.join('datasets', 'example.csv')\n",
    "\n",
    "train_github_url = \"https://github.com/EPrutskoy/MindGames_Hotel_Product/blob/3e23c7d7c49ec53e08e9e3d17468f26d286f6b4e/datasets/train.xlsx?raw=true\"\n",
    "test_github_url = \"https://github.com/EPrutskoy/MindGames_Hotel_Product/blob/3e23c7d7c49ec53e08e9e3d17468f26d286f6b4e/datasets/test.xlsx?raw=true\"\n",
    "example_github_url = \"https://github.com/EPrutskoy/MindGames_Hotel_Product/blob/3e23c7d7c49ec53e08e9e3d17468f26d286f6b4e/datasets/example.csv?raw=true\"\n",
    "\n",
    "# Загрузка файлов\n",
    "train_data = load_f(train_local_path, train_github_url, file_type=\"xlsx\")\n",
    "test_data = load_f(test_local_path, test_github_url, file_type=\"xlsx\")\n",
    "example_data = load_f(example_local_path, example_github_url, file_type=\"csv\")"
   ]
  },
  {
   "cell_type": "code",
   "execution_count": 14,
   "metadata": {},
   "outputs": [
    {
     "name": "stdout",
     "output_type": "stream",
     "text": [
      "<class 'pandas.core.frame.DataFrame'>\n",
      "RangeIndex: 26174 entries, 0 to 26173\n",
      "Data columns (total 16 columns):\n",
      " #   Column              Non-Null Count  Dtype         \n",
      "---  ------              --------------  -----         \n",
      " 0   Unnamed: 0          26174 non-null  int64         \n",
      " 1   № брони             26174 non-null  object        \n",
      " 2   Номеров             26174 non-null  int64         \n",
      " 3   Стоимость           26174 non-null  float64       \n",
      " 4   Внесена предоплата  26174 non-null  int64         \n",
      " 5   Способ оплаты       26174 non-null  object        \n",
      " 6   Дата бронирования   26174 non-null  datetime64[ns]\n",
      " 7   Дата отмены         5192 non-null   datetime64[ns]\n",
      " 8   Заезд               26174 non-null  datetime64[ns]\n",
      " 9   Ночей               26174 non-null  int64         \n",
      " 10  Выезд               26174 non-null  datetime64[ns]\n",
      " 11  Источник            26174 non-null  object        \n",
      " 12  Статус брони        26174 non-null  object        \n",
      " 13  Категория номера    26174 non-null  object        \n",
      " 14  Гостей              26174 non-null  int64         \n",
      " 15  Гостиница           26174 non-null  int64         \n",
      "dtypes: datetime64[ns](4), float64(1), int64(6), object(5)\n",
      "memory usage: 3.2+ MB\n"
     ]
    }
   ],
   "source": [
    "train_data.info()"
   ]
  },
  {
   "cell_type": "code",
   "execution_count": 17,
   "metadata": {},
   "outputs": [
    {
     "name": "stdout",
     "output_type": "stream",
     "text": [
      "<class 'pandas.core.frame.DataFrame'>\n",
      "RangeIndex: 11218 entries, 0 to 11217\n",
      "Data columns (total 14 columns):\n",
      " #   Column              Non-Null Count  Dtype         \n",
      "---  ------              --------------  -----         \n",
      " 0   Unnamed: 0          11218 non-null  int64         \n",
      " 1   № брони             11218 non-null  object        \n",
      " 2   Номеров             11218 non-null  int64         \n",
      " 3   Стоимость           11218 non-null  float64       \n",
      " 4   Внесена предоплата  11218 non-null  int64         \n",
      " 5   Способ оплаты       11218 non-null  object        \n",
      " 6   Дата бронирования   11218 non-null  datetime64[ns]\n",
      " 7   Заезд               11218 non-null  datetime64[ns]\n",
      " 8   Ночей               11218 non-null  int64         \n",
      " 9   Выезд               11218 non-null  datetime64[ns]\n",
      " 10  Источник            11218 non-null  object        \n",
      " 11  Категория номера    11218 non-null  object        \n",
      " 12  Гостей              11218 non-null  int64         \n",
      " 13  Гостиница           11218 non-null  int64         \n",
      "dtypes: datetime64[ns](3), float64(1), int64(6), object(4)\n",
      "memory usage: 1.2+ MB\n"
     ]
    }
   ],
   "source": [
    "test_data.info()"
   ]
  },
  {
   "cell_type": "code",
   "execution_count": 18,
   "metadata": {},
   "outputs": [
    {
     "name": "stdout",
     "output_type": "stream",
     "text": [
      "<class 'pandas.core.frame.DataFrame'>\n",
      "RangeIndex: 11217 entries, 0 to 11216\n",
      "Data columns (total 1 columns):\n",
      " #   Column  Non-Null Count  Dtype\n",
      "---  ------  --------------  -----\n",
      " 0   0       11217 non-null  int64\n",
      "dtypes: int64(1)\n",
      "memory usage: 87.8 KB\n"
     ]
    }
   ],
   "source": [
    "example_data.info()"
   ]
  }
 ],
 "metadata": {
  "kernelspec": {
   "display_name": "base",
   "language": "python",
   "name": "python3"
  },
  "language_info": {
   "codemirror_mode": {
    "name": "ipython",
    "version": 3
   },
   "file_extension": ".py",
   "mimetype": "text/x-python",
   "name": "python",
   "nbconvert_exporter": "python",
   "pygments_lexer": "ipython3",
   "version": "3.11.7"
  }
 },
 "nbformat": 4,
 "nbformat_minor": 2
}
